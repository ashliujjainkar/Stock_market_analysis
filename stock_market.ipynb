{
 "cells": [
  {
   "cell_type": "code",
   "execution_count": 1,
   "id": "27c0604b-1cf0-4a6f-9e53-4f2c9885b932",
   "metadata": {},
   "outputs": [],
   "source": [
    "import os\n",
    "import pandas as pd\n",
    "import matplotlib.pyplot as plt"
   ]
  },
  {
   "cell_type": "code",
   "execution_count": 2,
   "id": "b2bfe8ec-670f-40fe-9504-4e22843af2a2",
   "metadata": {},
   "outputs": [
    {
     "name": "stdout",
     "output_type": "stream",
     "text": [
      "Collecting pandas\n",
      "  Using cached pandas-2.2.3-cp312-cp312-manylinux_2_17_x86_64.manylinux2014_x86_64.whl.metadata (89 kB)\n",
      "Collecting numpy>=1.26.0 (from pandas)\n",
      "  Using cached numpy-2.1.2-cp312-cp312-manylinux_2_17_x86_64.manylinux2014_x86_64.whl.metadata (60 kB)\n",
      "Requirement already satisfied: python-dateutil>=2.8.2 in ./.ml_env/lib/python3.12/site-packages (from pandas) (2.9.0.post0)\n",
      "Collecting pytz>=2020.1 (from pandas)\n",
      "  Using cached pytz-2024.2-py2.py3-none-any.whl.metadata (22 kB)\n",
      "Collecting tzdata>=2022.7 (from pandas)\n",
      "  Using cached tzdata-2024.2-py2.py3-none-any.whl.metadata (1.4 kB)\n",
      "Requirement already satisfied: six>=1.5 in ./.ml_env/lib/python3.12/site-packages (from python-dateutil>=2.8.2->pandas) (1.16.0)\n",
      "Using cached pandas-2.2.3-cp312-cp312-manylinux_2_17_x86_64.manylinux2014_x86_64.whl (12.7 MB)\n",
      "Using cached numpy-2.1.2-cp312-cp312-manylinux_2_17_x86_64.manylinux2014_x86_64.whl (16.0 MB)\n",
      "Using cached pytz-2024.2-py2.py3-none-any.whl (508 kB)\n",
      "Using cached tzdata-2024.2-py2.py3-none-any.whl (346 kB)\n",
      "Installing collected packages: pytz, tzdata, numpy, pandas\n",
      "Successfully installed numpy-2.1.2 pandas-2.2.3 pytz-2024.2 tzdata-2024.2\n",
      "Collecting matplotlib\n",
      "  Using cached matplotlib-3.9.2-cp312-cp312-manylinux_2_17_x86_64.manylinux2014_x86_64.whl.metadata (11 kB)\n",
      "Collecting contourpy>=1.0.1 (from matplotlib)\n",
      "  Using cached contourpy-1.3.0-cp312-cp312-manylinux_2_17_x86_64.manylinux2014_x86_64.whl.metadata (5.4 kB)\n",
      "Collecting cycler>=0.10 (from matplotlib)\n",
      "  Using cached cycler-0.12.1-py3-none-any.whl.metadata (3.8 kB)\n",
      "Collecting fonttools>=4.22.0 (from matplotlib)\n",
      "  Using cached fonttools-4.54.1-cp312-cp312-manylinux_2_5_x86_64.manylinux1_x86_64.manylinux_2_17_x86_64.manylinux2014_x86_64.whl.metadata (163 kB)\n",
      "Collecting kiwisolver>=1.3.1 (from matplotlib)\n",
      "  Using cached kiwisolver-1.4.7-cp312-cp312-manylinux_2_17_x86_64.manylinux2014_x86_64.whl.metadata (6.3 kB)\n",
      "Requirement already satisfied: numpy>=1.23 in ./.ml_env/lib/python3.12/site-packages (from matplotlib) (2.1.2)\n",
      "Requirement already satisfied: packaging>=20.0 in ./.ml_env/lib/python3.12/site-packages (from matplotlib) (24.1)\n",
      "Collecting pillow>=8 (from matplotlib)\n",
      "  Using cached pillow-10.4.0-cp312-cp312-manylinux_2_28_x86_64.whl.metadata (9.2 kB)\n",
      "Collecting pyparsing>=2.3.1 (from matplotlib)\n",
      "  Using cached pyparsing-3.1.4-py3-none-any.whl.metadata (5.1 kB)\n",
      "Requirement already satisfied: python-dateutil>=2.7 in ./.ml_env/lib/python3.12/site-packages (from matplotlib) (2.9.0.post0)\n",
      "Requirement already satisfied: six>=1.5 in ./.ml_env/lib/python3.12/site-packages (from python-dateutil>=2.7->matplotlib) (1.16.0)\n",
      "Using cached matplotlib-3.9.2-cp312-cp312-manylinux_2_17_x86_64.manylinux2014_x86_64.whl (8.3 MB)\n",
      "Using cached contourpy-1.3.0-cp312-cp312-manylinux_2_17_x86_64.manylinux2014_x86_64.whl (320 kB)\n",
      "Using cached cycler-0.12.1-py3-none-any.whl (8.3 kB)\n",
      "Using cached fonttools-4.54.1-cp312-cp312-manylinux_2_5_x86_64.manylinux1_x86_64.manylinux_2_17_x86_64.manylinux2014_x86_64.whl (4.9 MB)\n",
      "Using cached kiwisolver-1.4.7-cp312-cp312-manylinux_2_17_x86_64.manylinux2014_x86_64.whl (1.5 MB)\n",
      "Using cached pillow-10.4.0-cp312-cp312-manylinux_2_28_x86_64.whl (4.5 MB)\n",
      "Using cached pyparsing-3.1.4-py3-none-any.whl (104 kB)\n",
      "Installing collected packages: pyparsing, pillow, kiwisolver, fonttools, cycler, contourpy, matplotlib\n",
      "Successfully installed contourpy-1.3.0 cycler-0.12.1 fonttools-4.54.1 kiwisolver-1.4.7 matplotlib-3.9.2 pillow-10.4.0 pyparsing-3.1.4\n"
     ]
    }
   ],
   "source": [
    "# !pip install pandas\n",
    "# !pip install matplotlib\n"
   ]
  },
  {
   "cell_type": "code",
   "execution_count": 2,
   "id": "db4139d7-4b30-4829-a02e-c73f8c396e81",
   "metadata": {},
   "outputs": [],
   "source": [
    "class Stock:\n",
    "    def __init__(self,symbol):\n",
    "        self.symbol = symbol\n",
    "        self.data = None\n",
    "\n",
    "    def load_data(self,directory):\n",
    "        file_path = os.path.join(directory,f\"{self.symbol}.csv\")\n",
    "        if os.path.exists(file_path):\n",
    "            self.data = pd.read_csv(file_path)\n",
    "        else:\n",
    "            raise FileNotFoundError(f\"CSV file for symbol {self.symbol} not found in directory\")\n",
    "            \n",
    "    def get_stock_data_by_date(self,date):\n",
    "        if self.data is not None:\n",
    "            stock_data = self.data[self.data['Date'] == date]\n",
    "            if not stock_data.empty:\n",
    "                return stock_data.iloc[0].to_dict()\n",
    "            else:\n",
    "                return f\"No data available for {self.symbol} on {date}\"\n",
    "        else:\n",
    "            return \"Data not loaded. Please load the csv file first.\""
   ]
  },
  {
   "cell_type": "code",
   "execution_count": 5,
   "id": "7619749a-3ea2-4615-a4f8-0ed6b18953c6",
   "metadata": {},
   "outputs": [],
   "source": [
    "directory = \"/home/ashli/ML/data/stocks/\"\n",
    "symbol = \"AA\""
   ]
  },
  {
   "cell_type": "code",
   "execution_count": 6,
   "id": "8820c4fb-f6b7-42aa-9a7d-8cae41fe517f",
   "metadata": {},
   "outputs": [
    {
     "data": {
      "text/plain": [
       "{'Date': '1962-02-15',\n",
       " 'Open': 5.807250022888184,\n",
       " 'High': 5.907374858856201,\n",
       " 'Low': 5.73916482925415,\n",
       " 'Close': 5.73916482925415,\n",
       " 'Adj Close': 1.3569740056991575,\n",
       " 'Volume': 62500}"
      ]
     },
     "execution_count": 6,
     "metadata": {},
     "output_type": "execute_result"
    }
   ],
   "source": [
    "stock = Stock(symbol)\n",
    "stock.load_data(directory)\n",
    "stock.get_stock_data_by_date(\"1962-02-15\")"
   ]
  },
  {
   "cell_type": "code",
   "execution_count": 7,
   "id": "c0b0643c-5b61-4ba4-9447-4682e47a875f",
   "metadata": {},
   "outputs": [],
   "source": [
    "def plot_stock_data(stock):\n",
    "    if stock.data is not None:\n",
    "        plt.figure(figsize = (10,6))\n",
    "        \n",
    "        # plt.plot(stock.data['Date'], stock.data['Open'], label='Open', color='green')\n",
    "        # plt.plot(stock.data['Date'], stock.data['High'], label='High', color='blue')\n",
    "        # plt.plot(stock.data['Date'], stock.data['Low'], label='Low', color='red')\n",
    "        plt.plot(stock.data['Date'], stock.data['Close'], label='Close', color='orange')\n",
    "\n",
    "        plt.xlabel('Date')\n",
    "        plt.ylabel('Price')\n",
    "        plt.title(f\"Stock price for {stock.symbol}\")\n",
    "        plt.legend()\n",
    "        plt.grid(True)\n",
    "\n",
    "        plt.show()\n",
    "    else:\n",
    "        print(\"Data not loaded. Please load the csv file first.\")"
   ]
  },
  {
   "cell_type": "code",
   "execution_count": 8,
   "id": "f253575c-ab68-4da2-9793-df1b21f995fc",
   "metadata": {},
   "outputs": [
    {
     "data": {
      "image/png": "[encoded data removed]",
      "text/plain": [
       "<Figure size 1000x600 with 1 Axes>"
      ]
     },
     "metadata": {},
     "output_type": "display_data"
    }
   ],
   "source": [
    "plot_stock_data(stock)"
   ]
  },
  {
   "cell_type": "code",
   "execution_count": null,
   "id": "3ea07c24-f568-4674-b794-88c26af4a29d",
   "metadata": {},
   "outputs": [],
   "source": []
  },
  {
   "cell_type": "code",
   "execution_count": 9,
   "id": "b39b1951-b1dc-4aea-ad51-529716b808fd",
   "metadata": {},
   "outputs": [],
   "source": [
    "def moving_avg(stock,period):\n",
    "    if stock.data is not None:\n",
    "        df = pd.DataFrame(stock.data, columns=['Close'])\n",
    "        df['SMA'] = df['Close'].rolling(window=period).mean()\n",
    "        return df"
   ]
  },
  {
   "cell_type": "code",
   "execution_count": 10,
   "id": "2c5e1052-af6c-4844-8403-02e6dc45fcdd",
   "metadata": {},
   "outputs": [
    {
     "data": {
      "text/html": [
       "<div>\n",
       "<style scoped>\n",
       "    .dataframe tbody tr th:only-of-type {\n",
       "        vertical-align: middle;\n",
       "    }\n",
       "\n",
       "    .dataframe tbody tr th {\n",
       "        vertical-align: top;\n",
       "    }\n",
       "\n",
       "    .dataframe thead th {\n",
       "        text-align: right;\n",
       "    }\n",
       "</style>\n",
       "<table border=\"1\" class=\"dataframe\">\n",
       "  <thead>\n",
       "    <tr style=\"text-align: right;\">\n",
       "      <th></th>\n",
       "      <th>Close</th>\n",
       "      <th>SMA</th>\n",
       "    </tr>\n",
       "  </thead>\n",
       "  <tbody>\n",
       "    <tr>\n",
       "      <th>0</th>\n",
       "      <td>6.532155</td>\n",
       "      <td>NaN</td>\n",
       "    </tr>\n",
       "    <tr>\n",
       "      <th>1</th>\n",
       "      <td>6.632280</td>\n",
       "      <td>NaN</td>\n",
       "    </tr>\n",
       "    <tr>\n",
       "      <th>2</th>\n",
       "      <td>6.632280</td>\n",
       "      <td>6.598905</td>\n",
       "    </tr>\n",
       "    <tr>\n",
       "      <th>3</th>\n",
       "      <td>6.624270</td>\n",
       "      <td>6.629610</td>\n",
       "    </tr>\n",
       "    <tr>\n",
       "      <th>4</th>\n",
       "      <td>6.408000</td>\n",
       "      <td>6.554850</td>\n",
       "    </tr>\n",
       "    <tr>\n",
       "      <th>...</th>\n",
       "      <td>...</td>\n",
       "      <td>...</td>\n",
       "    </tr>\n",
       "    <tr>\n",
       "      <th>14658</th>\n",
       "      <td>6.840000</td>\n",
       "      <td>7.066667</td>\n",
       "    </tr>\n",
       "    <tr>\n",
       "      <th>14659</th>\n",
       "      <td>6.550000</td>\n",
       "      <td>6.826667</td>\n",
       "    </tr>\n",
       "    <tr>\n",
       "      <th>14660</th>\n",
       "      <td>6.070000</td>\n",
       "      <td>6.486667</td>\n",
       "    </tr>\n",
       "    <tr>\n",
       "      <th>14661</th>\n",
       "      <td>6.160000</td>\n",
       "      <td>6.260000</td>\n",
       "    </tr>\n",
       "    <tr>\n",
       "      <th>14662</th>\n",
       "      <td>6.250000</td>\n",
       "      <td>6.160000</td>\n",
       "    </tr>\n",
       "  </tbody>\n",
       "</table>\n",
       "<p>14663 rows × 2 columns</p>\n",
       "</div>"
      ],
      "text/plain": [
       "          Close       SMA\n",
       "0      6.532155       NaN\n",
       "1      6.632280       NaN\n",
       "2      6.632280  6.598905\n",
       "3      6.624270  6.629610\n",
       "4      6.408000  6.554850\n",
       "...         ...       ...\n",
       "14658  6.840000  7.066667\n",
       "14659  6.550000  6.826667\n",
       "14660  6.070000  6.486667\n",
       "14661  6.160000  6.260000\n",
       "14662  6.250000  6.160000\n",
       "\n",
       "[14663 rows x 2 columns]"
      ]
     },
     "execution_count": 10,
     "metadata": {},
     "output_type": "execute_result"
    }
   ],
   "source": [
    "moving_avg(stock,3)"
   ]
  },
  {
   "cell_type": "code",
   "execution_count": 11,
   "id": "9194ec8e-8057-45e9-b35a-680760f84b2b",
   "metadata": {},
   "outputs": [
    {
     "data": {
      "text/html": [
       "<div>\n",
       "<style scoped>\n",
       "    .dataframe tbody tr th:only-of-type {\n",
       "        vertical-align: middle;\n",
       "    }\n",
       "\n",
       "    .dataframe tbody tr th {\n",
       "        vertical-align: top;\n",
       "    }\n",
       "\n",
       "    .dataframe thead th {\n",
       "        text-align: right;\n",
       "    }\n",
       "</style>\n",
       "<table border=\"1\" class=\"dataframe\">\n",
       "  <thead>\n",
       "    <tr style=\"text-align: right;\">\n",
       "      <th></th>\n",
       "      <th>Close</th>\n",
       "      <th>SMA</th>\n",
       "    </tr>\n",
       "  </thead>\n",
       "  <tbody>\n",
       "    <tr>\n",
       "      <th>0</th>\n",
       "      <td>6.532155</td>\n",
       "      <td>NaN</td>\n",
       "    </tr>\n",
       "    <tr>\n",
       "      <th>1</th>\n",
       "      <td>6.632280</td>\n",
       "      <td>NaN</td>\n",
       "    </tr>\n",
       "    <tr>\n",
       "      <th>2</th>\n",
       "      <td>6.632280</td>\n",
       "      <td>NaN</td>\n",
       "    </tr>\n",
       "    <tr>\n",
       "      <th>3</th>\n",
       "      <td>6.624270</td>\n",
       "      <td>NaN</td>\n",
       "    </tr>\n",
       "    <tr>\n",
       "      <th>4</th>\n",
       "      <td>6.408000</td>\n",
       "      <td>NaN</td>\n",
       "    </tr>\n",
       "    <tr>\n",
       "      <th>...</th>\n",
       "      <td>...</td>\n",
       "      <td>...</td>\n",
       "    </tr>\n",
       "    <tr>\n",
       "      <th>14658</th>\n",
       "      <td>6.840000</td>\n",
       "      <td>6.575</td>\n",
       "    </tr>\n",
       "    <tr>\n",
       "      <th>14659</th>\n",
       "      <td>6.550000</td>\n",
       "      <td>6.430</td>\n",
       "    </tr>\n",
       "    <tr>\n",
       "      <th>14660</th>\n",
       "      <td>6.070000</td>\n",
       "      <td>6.355</td>\n",
       "    </tr>\n",
       "    <tr>\n",
       "      <th>14661</th>\n",
       "      <td>6.160000</td>\n",
       "      <td>6.271</td>\n",
       "    </tr>\n",
       "    <tr>\n",
       "      <th>14662</th>\n",
       "      <td>6.250000</td>\n",
       "      <td>6.321</td>\n",
       "    </tr>\n",
       "  </tbody>\n",
       "</table>\n",
       "<p>14663 rows × 2 columns</p>\n",
       "</div>"
      ],
      "text/plain": [
       "          Close    SMA\n",
       "0      6.532155    NaN\n",
       "1      6.632280    NaN\n",
       "2      6.632280    NaN\n",
       "3      6.624270    NaN\n",
       "4      6.408000    NaN\n",
       "...         ...    ...\n",
       "14658  6.840000  6.575\n",
       "14659  6.550000  6.430\n",
       "14660  6.070000  6.355\n",
       "14661  6.160000  6.271\n",
       "14662  6.250000  6.321\n",
       "\n",
       "[14663 rows x 2 columns]"
      ]
     },
     "execution_count": 11,
     "metadata": {},
     "output_type": "execute_result"
    }
   ],
   "source": [
    "moving_avg(stock,10)"
   ]
  },
  {
   "cell_type": "code",
   "execution_count": 12,
   "id": "256fb3f3-bfe5-4adf-9e1b-4555085730d7",
   "metadata": {},
   "outputs": [
    {
     "data": {
      "text/html": [
       "<div>\n",
       "<style scoped>\n",
       "    .dataframe tbody tr th:only-of-type {\n",
       "        vertical-align: middle;\n",
       "    }\n",
       "\n",
       "    .dataframe tbody tr th {\n",
       "        vertical-align: top;\n",
       "    }\n",
       "\n",
       "    .dataframe thead th {\n",
       "        text-align: right;\n",
       "    }\n",
       "</style>\n",
       "<table border=\"1\" class=\"dataframe\">\n",
       "  <thead>\n",
       "    <tr style=\"text-align: right;\">\n",
       "      <th></th>\n",
       "      <th>Close</th>\n",
       "      <th>SMA</th>\n",
       "    </tr>\n",
       "  </thead>\n",
       "  <tbody>\n",
       "    <tr>\n",
       "      <th>0</th>\n",
       "      <td>6.532155</td>\n",
       "      <td>NaN</td>\n",
       "    </tr>\n",
       "    <tr>\n",
       "      <th>1</th>\n",
       "      <td>6.632280</td>\n",
       "      <td>NaN</td>\n",
       "    </tr>\n",
       "    <tr>\n",
       "      <th>2</th>\n",
       "      <td>6.632280</td>\n",
       "      <td>NaN</td>\n",
       "    </tr>\n",
       "    <tr>\n",
       "      <th>3</th>\n",
       "      <td>6.624270</td>\n",
       "      <td>NaN</td>\n",
       "    </tr>\n",
       "    <tr>\n",
       "      <th>4</th>\n",
       "      <td>6.408000</td>\n",
       "      <td>NaN</td>\n",
       "    </tr>\n",
       "    <tr>\n",
       "      <th>...</th>\n",
       "      <td>...</td>\n",
       "      <td>...</td>\n",
       "    </tr>\n",
       "    <tr>\n",
       "      <th>14658</th>\n",
       "      <td>6.840000</td>\n",
       "      <td>8.8365</td>\n",
       "    </tr>\n",
       "    <tr>\n",
       "      <th>14659</th>\n",
       "      <td>6.550000</td>\n",
       "      <td>8.4705</td>\n",
       "    </tr>\n",
       "    <tr>\n",
       "      <th>14660</th>\n",
       "      <td>6.070000</td>\n",
       "      <td>8.0875</td>\n",
       "    </tr>\n",
       "    <tr>\n",
       "      <th>14661</th>\n",
       "      <td>6.160000</td>\n",
       "      <td>7.7485</td>\n",
       "    </tr>\n",
       "    <tr>\n",
       "      <th>14662</th>\n",
       "      <td>6.250000</td>\n",
       "      <td>7.4170</td>\n",
       "    </tr>\n",
       "  </tbody>\n",
       "</table>\n",
       "<p>14663 rows × 2 columns</p>\n",
       "</div>"
      ],
      "text/plain": [
       "          Close     SMA\n",
       "0      6.532155     NaN\n",
       "1      6.632280     NaN\n",
       "2      6.632280     NaN\n",
       "3      6.624270     NaN\n",
       "4      6.408000     NaN\n",
       "...         ...     ...\n",
       "14658  6.840000  8.8365\n",
       "14659  6.550000  8.4705\n",
       "14660  6.070000  8.0875\n",
       "14661  6.160000  7.7485\n",
       "14662  6.250000  7.4170\n",
       "\n",
       "[14663 rows x 2 columns]"
      ]
     },
     "execution_count": 12,
     "metadata": {},
     "output_type": "execute_result"
    }
   ],
   "source": [
    "moving_avg(stock,20)"
   ]
  },
  {
   "cell_type": "code",
   "execution_count": 13,
   "id": "907d00d0-04b1-46eb-bdaa-6a8890788f81",
   "metadata": {},
   "outputs": [
    {
     "data": {
      "text/plain": [
       "np.float64(113.78205108642578)"
      ]
     },
     "execution_count": 13,
     "metadata": {},
     "output_type": "execute_result"
    }
   ],
   "source": [
    "max(stock.data['Close'].values)"
   ]
  },
  {
   "cell_type": "code",
   "execution_count": 14,
   "id": "fbafaa17-0525-45da-9367-bdf4110bb1fc",
   "metadata": {
    "editable": true,
    "slideshow": {
     "slide_type": ""
    },
    "tags": []
   },
   "outputs": [],
   "source": [
    "def max_profit(stock,initial_cap,max_trade):\n",
    "    j = initial_cap\n",
    "    stock_held = 0\n",
    "    trades_done = 0\n",
    "    max_trade_allowed = max_trade // 2\n",
    "    prices = pd.DataFrame(stock.data, columns=['Close']).values\n",
    "    for i in range(1 ,len(prices)):\n",
    "        #buy stock at a dip\n",
    "        if prices[i] < prices[i-1] and trades_done < max_trade_allowed and capital >= prices[i]:\n",
    "            stocks_to_buy = capital // prices[i]\n",
    "            capital -= stocks_to_buy * prices[i]\n",
    "            stock_held += stocks_to_buy\n",
    "            trades_done += 1\n",
    "        #sell stock at high\n",
    "        elif prices[i] > prices[i-1] and stock_held > 0:\n",
    "            capital += stock_held * prices[i]\n",
    "            stock_held = 0\n",
    "            trades_done +=1\n",
    "        if trades_done >= max_trade:\n",
    "            break\n",
    "    if stock_held > 0:\n",
    "        capital += stocks_held * prices[-1]\n",
    "\n",
    "    return capital\n",
    "\n",
    "            "
   ]
  },
  {
   "cell_type": "code",
   "execution_count": 15,
   "id": "a26a58dc-ca09-41ba-a5bd-169dcc08917f",
   "metadata": {},
   "outputs": [],
   "source": [
    "def max_profit_naive(stock, capital=1000, max_trade=10):\n",
    "    min_index = stock.data['Close'].idxmin()\n",
    "    max_index = stock.data['Close'].idxmax()\n",
    "    quantity = 0\n",
    "    if max_index>min_index:\n",
    "        buy_price = float(stock.data[\"Close\"][min_index])\n",
    "        quantity += capital//buy_price\n",
    "        capital -= quantity*buy_price\n",
    "\n",
    "        sell_price = float(stock.data[\"Close\"][max_index])\n",
    "        capital += quantity*sell_price\n",
    "        quantity = 0\n",
    "    return capital"
   ]
  },
  {
   "cell_type": "code",
   "execution_count": 16,
   "id": "5ae4856c-7247-4634-adf9-b225b56b8195",
   "metadata": {},
   "outputs": [
    {
     "name": "stdout",
     "output_type": "stream",
     "text": [
      "Profit: 31065.35106778145, 3106.535106778145%\n"
     ]
    }
   ],
   "source": [
    "initial_capital = 1000\n",
    "trade_capital = max_profit_naive(stock,initial_capital)\n",
    "print(\"Profit: {}, {}%\".format(trade_capital, (trade_capital/initial_capital)*100))"
   ]
  },
  {
   "cell_type": "code",
   "execution_count": null,
   "id": "e5485ee2-2751-4ae6-bb7b-98a1d26f5076",
   "metadata": {},
   "outputs": [],
   "source": []
  },
  {
   "cell_type": "code",
   "execution_count": 17,
   "id": "e9330243-b662-4b14-ae68-312d03cbf8d3",
   "metadata": {},
   "outputs": [],
   "source": [
    "def max_corelation_tesla(directory,stock_symbol,tesla_sym=\"TSLA\"):\n",
    "    tesla = Stock(tesla_sym)\n",
    "    tesla.load_data(directory)\n",
    "    if tesla.data is None:\n",
    "        print(\"Tesla data is not loaded\")\n",
    "    tesla.data['Date'] = pd.to_datetime(tesla.data['Date'])\n",
    "    tesla.data = tesla.data.sort_values('Date')\n",
    "    tesla_closing_price = tesla.data['Close']\n",
    "    max_corelation = -1\n",
    "    max_corelation_stock = None\n",
    "    for symbol in stock_symbol:\n",
    "        stock = Stock(symbol)\n",
    "        try:\n",
    "            stock.load_data(directory)\n",
    "            stock.data['Date'] = pd.to_datetime(stock.data['Date'])\n",
    "            stock.data = stock.data.sort_values('Date')\n",
    "            merge_data = pd.merge(tesla.data[['Date','Close']],stock.data[['Date','Close']], on='Date',suffixes=('_tesla',f'_{symbol}'))\n",
    "            correlation = merge_data['Close_tesla'].corr(merge_data[f'Close_{symbol}'])\n",
    "            if correlation > max_corelation:\n",
    "                max_corelation = correlation\n",
    "                max_corelation_stock = symbol\n",
    "        except FileNotFoundError as e:\n",
    "            print(e)\n",
    "\n",
    "    return max_corelation_stock,max_corelation"
   ]
  },
  {
   "cell_type": "code",
   "execution_count": 18,
   "id": "6a242ce8-3185-444f-8fa8-2fa41c8e2a61",
   "metadata": {},
   "outputs": [],
   "source": [
    "directory = \"/home/ashli/ML/data/stocks/\"\n",
    "stock_symbol = ['AA','A','AAMC','AFT','AKTS','ALRN','AMEH','CORE','CRIS','TWIN','THBRU']"
   ]
  },
  {
   "cell_type": "code",
   "execution_count": 20,
   "id": "a362ff8c-1c75-4bed-8672-ce72727f069c",
   "metadata": {},
   "outputs": [],
   "source": [
    "max_corr_stock,max_corr = max_corelation_tesla(directory,stock_symbol)"
   ]
  },
  {
   "cell_type": "code",
   "execution_count": 21,
   "id": "a732beed-4fb8-4d5b-adf0-396011fe29ca",
   "metadata": {},
   "outputs": [
    {
     "data": {
      "text/plain": [
       "'THBRU'"
      ]
     },
     "execution_count": 21,
     "metadata": {},
     "output_type": "execute_result"
    }
   ],
   "source": [
    "max_corr_stock"
   ]
  },
  {
   "cell_type": "code",
   "execution_count": 22,
   "id": "2f8f8190-5ad3-40b5-8ff8-9f2c125e4984",
   "metadata": {},
   "outputs": [
    {
     "data": {
      "text/plain": [
       "np.float64(0.8666932984039588)"
      ]
     },
     "execution_count": 22,
     "metadata": {},
     "output_type": "execute_result"
    }
   ],
   "source": [
    "max_corr"
   ]
  },
  {
   "cell_type": "code",
   "execution_count": null,
   "id": "eb64645c-be72-41d1-ad92-005a35ade086",
   "metadata": {},
   "outputs": [],
   "source": []
  }
 ],
 "metadata": {
  "kernelspec": {
   "display_name": "Python 3 (ipykernel)",
   "language": "python",
   "name": "python3"
  },
  "language_info": {
   "codemirror_mode": {
    "name": "ipython",
    "version": 3
   },
   "file_extension": ".py",
   "mimetype": "text/x-python",
   "name": "python",
   "nbconvert_exporter": "python",
   "pygments_lexer": "ipython3",
   "version": "3.12.3"
  }
 },
 "nbformat": 4,
 "nbformat_minor": 5
}
