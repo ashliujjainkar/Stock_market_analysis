{
 "cells": [
  {
   "cell_type": "code",
   "execution_count": 1,
   "id": "27c0604b-1cf0-4a6f-9e53-4f2c9885b932",
   "metadata": {},
   "outputs": [],
   "source": [
    "import os\n",
    "import pandas as pd\n",
    "import numpy as np\n",
    "import matplotlib.pyplot as plt\n",
    "import random\n",
    "from tqdm import tqdm"
   ]
  },
  {
   "cell_type": "code",
   "execution_count": null,
   "id": "b2bfe8ec-670f-40fe-9504-4e22843af2a2",
   "metadata": {
    "scrolled": true
   },
   "outputs": [],
   "source": [
    "# !pip install pandas\n",
    "# !pip install matplotlib\n",
    "# !pip install tqdm"
   ]
  },
  {
   "cell_type": "code",
   "execution_count": 2,
   "id": "db4139d7-4b30-4829-a02e-c73f8c396e81",
   "metadata": {},
   "outputs": [],
   "source": [
    "class Stock:\n",
    "    def __init__(self,symbol):\n",
    "        self.symbol = symbol\n",
    "        self.data = None\n",
    "\n",
    "    def load_data(self,directory):\n",
    "        file_path = os.path.join(directory,f\"{self.symbol}.csv\")\n",
    "        if os.path.exists(file_path):\n",
    "            self.data = pd.read_csv(file_path)\n",
    "            self.data['Date'] = pd.to_datetime(self.data['Date'])\n",
    "            self.data = self.data.set_index(self.data['Date'])\n",
    "            self.data = self.data.sort_index()\n",
    "        else:\n",
    "            raise FileNotFoundError(f\"CSV file for symbol {self.symbol} not found in directory\")\n",
    "            \n",
    "    def trim_by_date(self, start_date,end_date):\n",
    "        self.data = self.data[start_date:end_date]\n",
    "            \n",
    "    def get_stock_data_by_date(self,date):\n",
    "        if self.data is not None:\n",
    "            stock_data = self.data[self.data['Date'] == date]\n",
    "            if not stock_data.empty:\n",
    "                return stock_data.iloc[0].to_dict()\n",
    "            else:\n",
    "                return f\"No data available for {self.symbol} on {date}\"\n",
    "        else:\n",
    "            return \"Data not loaded. Please load the csv file first.\""
   ]
  },
  {
   "cell_type": "code",
   "execution_count": 18,
   "id": "7619749a-3ea2-4615-a4f8-0ed6b18953c6",
   "metadata": {},
   "outputs": [],
   "source": [
    "directory = \"/home/ashli/ML/data/stocks/\"\n",
    "symbol = \"EBTC\""
   ]
  },
  {
   "cell_type": "code",
   "execution_count": 19,
   "id": "8820c4fb-f6b7-42aa-9a7d-8cae41fe517f",
   "metadata": {},
   "outputs": [
    {
     "data": {
      "text/plain": [
       "'No data available for EBTC on 1962-02-15'"
      ]
     },
     "execution_count": 19,
     "metadata": {},
     "output_type": "execute_result"
    }
   ],
   "source": [
    "stock = Stock(symbol)\n",
    "stock.load_data(directory)\n",
    "stock.get_stock_data_by_date(\"1962-02-15\")"
   ]
  },
  {
   "cell_type": "code",
   "execution_count": 20,
   "id": "ea47faed-3ed9-490f-8535-66ffa6b8b02f",
   "metadata": {},
   "outputs": [
    {
     "data": {
      "text/html": [
       "<div>\n",
       "<style scoped>\n",
       "    .dataframe tbody tr th:only-of-type {\n",
       "        vertical-align: middle;\n",
       "    }\n",
       "\n",
       "    .dataframe tbody tr th {\n",
       "        vertical-align: top;\n",
       "    }\n",
       "\n",
       "    .dataframe thead th {\n",
       "        text-align: right;\n",
       "    }\n",
       "</style>\n",
       "<table border=\"1\" class=\"dataframe\">\n",
       "  <thead>\n",
       "    <tr style=\"text-align: right;\">\n",
       "      <th></th>\n",
       "      <th>Date</th>\n",
       "      <th>Open</th>\n",
       "      <th>High</th>\n",
       "      <th>Low</th>\n",
       "      <th>Close</th>\n",
       "      <th>Adj Close</th>\n",
       "      <th>Volume</th>\n",
       "    </tr>\n",
       "    <tr>\n",
       "      <th>Date</th>\n",
       "      <th></th>\n",
       "      <th></th>\n",
       "      <th></th>\n",
       "      <th></th>\n",
       "      <th></th>\n",
       "      <th></th>\n",
       "      <th></th>\n",
       "    </tr>\n",
       "  </thead>\n",
       "  <tbody>\n",
       "    <tr>\n",
       "      <th>2005-02-14</th>\n",
       "      <td>2005-02-14</td>\n",
       "      <td>18.50</td>\n",
       "      <td>25.200001</td>\n",
       "      <td>18.500000</td>\n",
       "      <td>20.5</td>\n",
       "      <td>14.264810</td>\n",
       "      <td>21600</td>\n",
       "    </tr>\n",
       "    <tr>\n",
       "      <th>2005-02-15</th>\n",
       "      <td>2005-02-15</td>\n",
       "      <td>21.25</td>\n",
       "      <td>22.000000</td>\n",
       "      <td>20.000000</td>\n",
       "      <td>20.0</td>\n",
       "      <td>13.916887</td>\n",
       "      <td>2000</td>\n",
       "    </tr>\n",
       "    <tr>\n",
       "      <th>2005-02-16</th>\n",
       "      <td>2005-02-16</td>\n",
       "      <td>21.00</td>\n",
       "      <td>21.000000</td>\n",
       "      <td>21.000000</td>\n",
       "      <td>21.0</td>\n",
       "      <td>14.612738</td>\n",
       "      <td>1000</td>\n",
       "    </tr>\n",
       "    <tr>\n",
       "      <th>2005-02-17</th>\n",
       "      <td>2005-02-17</td>\n",
       "      <td>20.50</td>\n",
       "      <td>21.500000</td>\n",
       "      <td>19.754999</td>\n",
       "      <td>20.0</td>\n",
       "      <td>13.916887</td>\n",
       "      <td>4200</td>\n",
       "    </tr>\n",
       "    <tr>\n",
       "      <th>2005-02-18</th>\n",
       "      <td>2005-02-18</td>\n",
       "      <td>20.00</td>\n",
       "      <td>20.059999</td>\n",
       "      <td>19.500000</td>\n",
       "      <td>19.5</td>\n",
       "      <td>13.568962</td>\n",
       "      <td>1400</td>\n",
       "    </tr>\n",
       "  </tbody>\n",
       "</table>\n",
       "</div>"
      ],
      "text/plain": [
       "                 Date   Open       High        Low  Close  Adj Close  Volume\n",
       "Date                                                                        \n",
       "2005-02-14 2005-02-14  18.50  25.200001  18.500000   20.5  14.264810   21600\n",
       "2005-02-15 2005-02-15  21.25  22.000000  20.000000   20.0  13.916887    2000\n",
       "2005-02-16 2005-02-16  21.00  21.000000  21.000000   21.0  14.612738    1000\n",
       "2005-02-17 2005-02-17  20.50  21.500000  19.754999   20.0  13.916887    4200\n",
       "2005-02-18 2005-02-18  20.00  20.059999  19.500000   19.5  13.568962    1400"
      ]
     },
     "execution_count": 20,
     "metadata": {},
     "output_type": "execute_result"
    }
   ],
   "source": [
    "stock.data.head()"
   ]
  },
  {
   "cell_type": "code",
   "execution_count": 21,
   "id": "d30b498b-7143-48cc-b768-804d05b6a121",
   "metadata": {},
   "outputs": [],
   "source": [
    "def get_tsla_startdate(directory,sym):\n",
    "    tsla = Stock(sym)\n",
    "    tsla.load_data(directory)\n",
    "    tsla.data['Date'] = pd.to_datetime(tsla.data['Date'])\n",
    "    start_date = tsla.data['Date'].min()\n",
    "    end_date = tsla.data['Date'].max()\n",
    "    return start_date,end_date"
   ]
  },
  {
   "cell_type": "code",
   "execution_count": 22,
   "id": "d82d571d-d902-4223-9d28-781dc0f9fc72",
   "metadata": {},
   "outputs": [
    {
     "name": "stdout",
     "output_type": "stream",
     "text": [
      "None\n"
     ]
    }
   ],
   "source": [
    "start,end = get_tsla_startdate(directory,symbol)\n",
    "print(stock.trim_by_date(start,end))"
   ]
  },
  {
   "cell_type": "code",
   "execution_count": 15,
   "id": "663a2f1d-934a-4928-ac2f-d4c97240aa9f",
   "metadata": {},
   "outputs": [
    {
     "ename": "AttributeError",
     "evalue": "'NoneType' object has no attribute 'head'",
     "output_type": "error",
     "traceback": [
      "\u001b[0;31m---------------------------------------------------------------------------\u001b[0m",
      "\u001b[0;31mAttributeError\u001b[0m                            Traceback (most recent call last)",
      "Cell \u001b[0;32mIn[15], line 1\u001b[0m\n\u001b[0;32m----> 1\u001b[0m \u001b[43mnew_data\u001b[49m\u001b[38;5;241;43m.\u001b[39;49m\u001b[43mhead\u001b[49m()\n",
      "\u001b[0;31mAttributeError\u001b[0m: 'NoneType' object has no attribute 'head'"
     ]
    }
   ],
   "source": []
  },
  {
   "cell_type": "code",
   "execution_count": 7,
   "id": "c0b0643c-5b61-4ba4-9447-4682e47a875f",
   "metadata": {},
   "outputs": [],
   "source": [
    "def plot_stock_data(stock):\n",
    "    if stock.data is not None:\n",
    "        plt.figure(figsize = (10,6))\n",
    "        \n",
    "        # plt.plot(stock.data['Date'], stock.data['Open'], label='Open', color='green')\n",
    "        # plt.plot(stock.data['Date'], stock.data['High'], label='High', color='blue')\n",
    "        # plt.plot(stock.data['Date'], stock.data['Low'], label='Low', color='red')\n",
    "        plt.plot(stock.data['Date'], stock.data['Close'], label='Close', color='orange')\n",
    "\n",
    "        plt.xlabel('Date')\n",
    "        plt.ylabel('Price')\n",
    "        plt.title(f\"Stock price for {stock.symbol}\")\n",
    "        plt.legend()\n",
    "        plt.grid(True)\n",
    "\n",
    "        plt.show()\n",
    "    else:\n",
    "        print(\"Data not loaded. Please load the csv file first.\")"
   ]
  },
  {
   "cell_type": "code",
   "execution_count": 8,
   "id": "f253575c-ab68-4da2-9793-df1b21f995fc",
   "metadata": {},
   "outputs": [
    {
     "data": {
      "image/png": "[encoded data removed]",
      "text/plain": [
       "<Figure size 1000x600 with 1 Axes>"
      ]
     },
     "metadata": {},
     "output_type": "display_data"
    }
   ],
   "source": [
    "plot_stock_data(stock)"
   ]
  },
  {
   "cell_type": "code",
   "execution_count": null,
   "id": "3ea07c24-f568-4674-b794-88c26af4a29d",
   "metadata": {},
   "outputs": [],
   "source": []
  },
  {
   "cell_type": "code",
   "execution_count": 9,
   "id": "b39b1951-b1dc-4aea-ad51-529716b808fd",
   "metadata": {},
   "outputs": [],
   "source": [
    "def moving_avg(stock,period):\n",
    "    if stock.data is not None:\n",
    "        df = pd.DataFrame(stock.data, columns=['Close'])\n",
    "        df['SMA'] = df['Close'].rolling(window=period).mean()\n",
    "        return df"
   ]
  },
  {
   "cell_type": "code",
   "execution_count": 10,
   "id": "2c5e1052-af6c-4844-8403-02e6dc45fcdd",
   "metadata": {},
   "outputs": [
    {
     "data": {
      "text/html": [
       "<div>\n",
       "<style scoped>\n",
       "    .dataframe tbody tr th:only-of-type {\n",
       "        vertical-align: middle;\n",
       "    }\n",
       "\n",
       "    .dataframe tbody tr th {\n",
       "        vertical-align: top;\n",
       "    }\n",
       "\n",
       "    .dataframe thead th {\n",
       "        text-align: right;\n",
       "    }\n",
       "</style>\n",
       "<table border=\"1\" class=\"dataframe\">\n",
       "  <thead>\n",
       "    <tr style=\"text-align: right;\">\n",
       "      <th></th>\n",
       "      <th>Close</th>\n",
       "      <th>SMA</th>\n",
       "    </tr>\n",
       "  </thead>\n",
       "  <tbody>\n",
       "    <tr>\n",
       "      <th>0</th>\n",
       "      <td>6.532155</td>\n",
       "      <td>NaN</td>\n",
       "    </tr>\n",
       "    <tr>\n",
       "      <th>1</th>\n",
       "      <td>6.632280</td>\n",
       "      <td>NaN</td>\n",
       "    </tr>\n",
       "    <tr>\n",
       "      <th>2</th>\n",
       "      <td>6.632280</td>\n",
       "      <td>6.598905</td>\n",
       "    </tr>\n",
       "    <tr>\n",
       "      <th>3</th>\n",
       "      <td>6.624270</td>\n",
       "      <td>6.629610</td>\n",
       "    </tr>\n",
       "    <tr>\n",
       "      <th>4</th>\n",
       "      <td>6.408000</td>\n",
       "      <td>6.554850</td>\n",
       "    </tr>\n",
       "    <tr>\n",
       "      <th>...</th>\n",
       "      <td>...</td>\n",
       "      <td>...</td>\n",
       "    </tr>\n",
       "    <tr>\n",
       "      <th>14658</th>\n",
       "      <td>6.840000</td>\n",
       "      <td>7.066667</td>\n",
       "    </tr>\n",
       "    <tr>\n",
       "      <th>14659</th>\n",
       "      <td>6.550000</td>\n",
       "      <td>6.826667</td>\n",
       "    </tr>\n",
       "    <tr>\n",
       "      <th>14660</th>\n",
       "      <td>6.070000</td>\n",
       "      <td>6.486667</td>\n",
       "    </tr>\n",
       "    <tr>\n",
       "      <th>14661</th>\n",
       "      <td>6.160000</td>\n",
       "      <td>6.260000</td>\n",
       "    </tr>\n",
       "    <tr>\n",
       "      <th>14662</th>\n",
       "      <td>6.250000</td>\n",
       "      <td>6.160000</td>\n",
       "    </tr>\n",
       "  </tbody>\n",
       "</table>\n",
       "<p>14663 rows × 2 columns</p>\n",
       "</div>"
      ],
      "text/plain": [
       "          Close       SMA\n",
       "0      6.532155       NaN\n",
       "1      6.632280       NaN\n",
       "2      6.632280  6.598905\n",
       "3      6.624270  6.629610\n",
       "4      6.408000  6.554850\n",
       "...         ...       ...\n",
       "14658  6.840000  7.066667\n",
       "14659  6.550000  6.826667\n",
       "14660  6.070000  6.486667\n",
       "14661  6.160000  6.260000\n",
       "14662  6.250000  6.160000\n",
       "\n",
       "[14663 rows x 2 columns]"
      ]
     },
     "execution_count": 10,
     "metadata": {},
     "output_type": "execute_result"
    }
   ],
   "source": [
    "moving_avg(stock,3)"
   ]
  },
  {
   "cell_type": "code",
   "execution_count": 11,
   "id": "9194ec8e-8057-45e9-b35a-680760f84b2b",
   "metadata": {},
   "outputs": [
    {
     "data": {
      "text/html": [
       "<div>\n",
       "<style scoped>\n",
       "    .dataframe tbody tr th:only-of-type {\n",
       "        vertical-align: middle;\n",
       "    }\n",
       "\n",
       "    .dataframe tbody tr th {\n",
       "        vertical-align: top;\n",
       "    }\n",
       "\n",
       "    .dataframe thead th {\n",
       "        text-align: right;\n",
       "    }\n",
       "</style>\n",
       "<table border=\"1\" class=\"dataframe\">\n",
       "  <thead>\n",
       "    <tr style=\"text-align: right;\">\n",
       "      <th></th>\n",
       "      <th>Close</th>\n",
       "      <th>SMA</th>\n",
       "    </tr>\n",
       "  </thead>\n",
       "  <tbody>\n",
       "    <tr>\n",
       "      <th>0</th>\n",
       "      <td>6.532155</td>\n",
       "      <td>NaN</td>\n",
       "    </tr>\n",
       "    <tr>\n",
       "      <th>1</th>\n",
       "      <td>6.632280</td>\n",
       "      <td>NaN</td>\n",
       "    </tr>\n",
       "    <tr>\n",
       "      <th>2</th>\n",
       "      <td>6.632280</td>\n",
       "      <td>NaN</td>\n",
       "    </tr>\n",
       "    <tr>\n",
       "      <th>3</th>\n",
       "      <td>6.624270</td>\n",
       "      <td>NaN</td>\n",
       "    </tr>\n",
       "    <tr>\n",
       "      <th>4</th>\n",
       "      <td>6.408000</td>\n",
       "      <td>NaN</td>\n",
       "    </tr>\n",
       "    <tr>\n",
       "      <th>...</th>\n",
       "      <td>...</td>\n",
       "      <td>...</td>\n",
       "    </tr>\n",
       "    <tr>\n",
       "      <th>14658</th>\n",
       "      <td>6.840000</td>\n",
       "      <td>6.575</td>\n",
       "    </tr>\n",
       "    <tr>\n",
       "      <th>14659</th>\n",
       "      <td>6.550000</td>\n",
       "      <td>6.430</td>\n",
       "    </tr>\n",
       "    <tr>\n",
       "      <th>14660</th>\n",
       "      <td>6.070000</td>\n",
       "      <td>6.355</td>\n",
       "    </tr>\n",
       "    <tr>\n",
       "      <th>14661</th>\n",
       "      <td>6.160000</td>\n",
       "      <td>6.271</td>\n",
       "    </tr>\n",
       "    <tr>\n",
       "      <th>14662</th>\n",
       "      <td>6.250000</td>\n",
       "      <td>6.321</td>\n",
       "    </tr>\n",
       "  </tbody>\n",
       "</table>\n",
       "<p>14663 rows × 2 columns</p>\n",
       "</div>"
      ],
      "text/plain": [
       "          Close    SMA\n",
       "0      6.532155    NaN\n",
       "1      6.632280    NaN\n",
       "2      6.632280    NaN\n",
       "3      6.624270    NaN\n",
       "4      6.408000    NaN\n",
       "...         ...    ...\n",
       "14658  6.840000  6.575\n",
       "14659  6.550000  6.430\n",
       "14660  6.070000  6.355\n",
       "14661  6.160000  6.271\n",
       "14662  6.250000  6.321\n",
       "\n",
       "[14663 rows x 2 columns]"
      ]
     },
     "execution_count": 11,
     "metadata": {},
     "output_type": "execute_result"
    }
   ],
   "source": [
    "moving_avg(stock,10)"
   ]
  },
  {
   "cell_type": "code",
   "execution_count": 12,
   "id": "256fb3f3-bfe5-4adf-9e1b-4555085730d7",
   "metadata": {},
   "outputs": [
    {
     "data": {
      "text/html": [
       "<div>\n",
       "<style scoped>\n",
       "    .dataframe tbody tr th:only-of-type {\n",
       "        vertical-align: middle;\n",
       "    }\n",
       "\n",
       "    .dataframe tbody tr th {\n",
       "        vertical-align: top;\n",
       "    }\n",
       "\n",
       "    .dataframe thead th {\n",
       "        text-align: right;\n",
       "    }\n",
       "</style>\n",
       "<table border=\"1\" class=\"dataframe\">\n",
       "  <thead>\n",
       "    <tr style=\"text-align: right;\">\n",
       "      <th></th>\n",
       "      <th>Close</th>\n",
       "      <th>SMA</th>\n",
       "    </tr>\n",
       "  </thead>\n",
       "  <tbody>\n",
       "    <tr>\n",
       "      <th>0</th>\n",
       "      <td>6.532155</td>\n",
       "      <td>NaN</td>\n",
       "    </tr>\n",
       "    <tr>\n",
       "      <th>1</th>\n",
       "      <td>6.632280</td>\n",
       "      <td>NaN</td>\n",
       "    </tr>\n",
       "    <tr>\n",
       "      <th>2</th>\n",
       "      <td>6.632280</td>\n",
       "      <td>NaN</td>\n",
       "    </tr>\n",
       "    <tr>\n",
       "      <th>3</th>\n",
       "      <td>6.624270</td>\n",
       "      <td>NaN</td>\n",
       "    </tr>\n",
       "    <tr>\n",
       "      <th>4</th>\n",
       "      <td>6.408000</td>\n",
       "      <td>NaN</td>\n",
       "    </tr>\n",
       "    <tr>\n",
       "      <th>...</th>\n",
       "      <td>...</td>\n",
       "      <td>...</td>\n",
       "    </tr>\n",
       "    <tr>\n",
       "      <th>14658</th>\n",
       "      <td>6.840000</td>\n",
       "      <td>8.8365</td>\n",
       "    </tr>\n",
       "    <tr>\n",
       "      <th>14659</th>\n",
       "      <td>6.550000</td>\n",
       "      <td>8.4705</td>\n",
       "    </tr>\n",
       "    <tr>\n",
       "      <th>14660</th>\n",
       "      <td>6.070000</td>\n",
       "      <td>8.0875</td>\n",
       "    </tr>\n",
       "    <tr>\n",
       "      <th>14661</th>\n",
       "      <td>6.160000</td>\n",
       "      <td>7.7485</td>\n",
       "    </tr>\n",
       "    <tr>\n",
       "      <th>14662</th>\n",
       "      <td>6.250000</td>\n",
       "      <td>7.4170</td>\n",
       "    </tr>\n",
       "  </tbody>\n",
       "</table>\n",
       "<p>14663 rows × 2 columns</p>\n",
       "</div>"
      ],
      "text/plain": [
       "          Close     SMA\n",
       "0      6.532155     NaN\n",
       "1      6.632280     NaN\n",
       "2      6.632280     NaN\n",
       "3      6.624270     NaN\n",
       "4      6.408000     NaN\n",
       "...         ...     ...\n",
       "14658  6.840000  8.8365\n",
       "14659  6.550000  8.4705\n",
       "14660  6.070000  8.0875\n",
       "14661  6.160000  7.7485\n",
       "14662  6.250000  7.4170\n",
       "\n",
       "[14663 rows x 2 columns]"
      ]
     },
     "execution_count": 12,
     "metadata": {},
     "output_type": "execute_result"
    }
   ],
   "source": [
    "moving_avg(stock,20)"
   ]
  },
  {
   "cell_type": "code",
   "execution_count": 13,
   "id": "907d00d0-04b1-46eb-bdaa-6a8890788f81",
   "metadata": {},
   "outputs": [
    {
     "data": {
      "text/plain": [
       "np.float64(113.78205108642578)"
      ]
     },
     "execution_count": 13,
     "metadata": {},
     "output_type": "execute_result"
    }
   ],
   "source": [
    "max(stock.data['Close'].values)"
   ]
  },
  {
   "cell_type": "code",
   "execution_count": 14,
   "id": "fbafaa17-0525-45da-9367-bdf4110bb1fc",
   "metadata": {
    "editable": true,
    "slideshow": {
     "slide_type": ""
    },
    "tags": []
   },
   "outputs": [],
   "source": [
    "def max_profit(stock,initial_cap,max_trade):\n",
    "    j = initial_cap\n",
    "    stock_held = 0\n",
    "    trades_done = 0\n",
    "    max_trade_allowed = max_trade // 2\n",
    "    prices = pd.DataFrame(stock.data, columns=['Close']).values\n",
    "    for i in range(1 ,len(prices)):\n",
    "        #buy stock at a dip\n",
    "        if prices[i] < prices[i-1] and trades_done < max_trade_allowed and capital >= prices[i]:\n",
    "            stocks_to_buy = capital // prices[i]\n",
    "            capital -= stocks_to_buy * prices[i]\n",
    "            stock_held += stocks_to_buy\n",
    "            trades_done += 1\n",
    "        #sell stock at high\n",
    "        elif prices[i] > prices[i-1] and stock_held > 0:\n",
    "            capital += stock_held * prices[i]\n",
    "            stock_held = 0\n",
    "            trades_done +=1\n",
    "        if trades_done >= max_trade:\n",
    "            break\n",
    "    if stock_held > 0:\n",
    "        capital += stocks_held * prices[-1]\n",
    "\n",
    "    return capital\n",
    "\n",
    "            "
   ]
  },
  {
   "cell_type": "code",
   "execution_count": 15,
   "id": "a26a58dc-ca09-41ba-a5bd-169dcc08917f",
   "metadata": {},
   "outputs": [],
   "source": [
    "def max_profit_naive(stock, capital=1000, max_trade=10):\n",
    "    min_index = stock.data['Close'].idxmin()\n",
    "    max_index = stock.data['Close'].idxmax()\n",
    "    quantity = 0\n",
    "    if max_index>min_index:\n",
    "        buy_price = float(stock.data[\"Close\"][min_index])\n",
    "        quantity += capital//buy_price\n",
    "        capital -= quantity*buy_price\n",
    "\n",
    "        sell_price = float(stock.data[\"Close\"][max_index])\n",
    "        capital += quantity*sell_price\n",
    "        quantity = 0\n",
    "    return capital"
   ]
  },
  {
   "cell_type": "code",
   "execution_count": 16,
   "id": "5ae4856c-7247-4634-adf9-b225b56b8195",
   "metadata": {},
   "outputs": [
    {
     "name": "stdout",
     "output_type": "stream",
     "text": [
      "Profit: 31065.35106778145, 3106.535106778145%\n"
     ]
    }
   ],
   "source": [
    "initial_capital = 1000\n",
    "trade_capital = max_profit_naive(stock,initial_capital)\n",
    "print(\"Profit: {}, {}%\".format(trade_capital, (trade_capital/initial_capital)*100))"
   ]
  },
  {
   "cell_type": "code",
   "execution_count": null,
   "id": "e5485ee2-2751-4ae6-bb7b-98a1d26f5076",
   "metadata": {},
   "outputs": [],
   "source": []
  },
  {
   "cell_type": "code",
   "execution_count": 17,
   "id": "e9330243-b662-4b14-ae68-312d03cbf8d3",
   "metadata": {},
   "outputs": [],
   "source": [
    "def max_corelation_tesla(directory,stock_symbol,tesla_sym=\"TSLA\"):\n",
    "    tesla = Stock(tesla_sym)\n",
    "    tesla.load_data(directory)\n",
    "    if tesla.data is None:\n",
    "        print(\"Tesla data is not loaded\")\n",
    "    tesla.data['Date'] = pd.to_datetime(tesla.data['Date'])\n",
    "    tesla.data = tesla.data.sort_values('Date')\n",
    "    tesla_closing_price = tesla.data['Close']\n",
    "    max_corelation = -1\n",
    "    max_corelation_stock = None\n",
    "    for symbol in stock_symbol:\n",
    "        stock = Stock(symbol)\n",
    "        try:\n",
    "            stock.load_data(directory)\n",
    "            stock.data['Date'] = pd.to_datetime(stock.data['Date'])\n",
    "            stock.data = stock.data.sort_values('Date')\n",
    "            merge_data = pd.merge(tesla.data[['Date','Close']],stock.data[['Date','Close']], on='Date',suffixes=('_tesla',f'_{symbol}'))\n",
    "            correlation = merge_data['Close_tesla'].corr(merge_data[f'Close_{symbol}'])\n",
    "            if correlation > max_corelation:\n",
    "                max_corelation = correlation\n",
    "                max_corelation_stock = symbol\n",
    "        except FileNotFoundError as e:\n",
    "            print(e)\n",
    "\n",
    "    return max_corelation_stock,max_corelation"
   ]
  },
  {
   "cell_type": "code",
   "execution_count": 18,
   "id": "6a242ce8-3185-444f-8fa8-2fa41c8e2a61",
   "metadata": {},
   "outputs": [],
   "source": [
    "directory = \"/home/ashli/ML/data/stocks/\"\n",
    "stock_symbol = ['AA','A','AAMC','AFT','AKTS','ALRN','AMEH','CORE','CRIS','TWIN','THBRU']"
   ]
  },
  {
   "cell_type": "code",
   "execution_count": 20,
   "id": "a362ff8c-1c75-4bed-8672-ce72727f069c",
   "metadata": {},
   "outputs": [],
   "source": [
    "max_corr_stock,max_corr = max_corelation_tesla(directory,stock_symbol)"
   ]
  },
  {
   "cell_type": "code",
   "execution_count": 21,
   "id": "a732beed-4fb8-4d5b-adf0-396011fe29ca",
   "metadata": {},
   "outputs": [
    {
     "data": {
      "text/plain": [
       "'THBRU'"
      ]
     },
     "execution_count": 21,
     "metadata": {},
     "output_type": "execute_result"
    }
   ],
   "source": [
    "max_corr_stock"
   ]
  },
  {
   "cell_type": "code",
   "execution_count": 22,
   "id": "2f8f8190-5ad3-40b5-8ff8-9f2c125e4984",
   "metadata": {},
   "outputs": [
    {
     "data": {
      "text/plain": [
       "np.float64(0.8666932984039588)"
      ]
     },
     "execution_count": 22,
     "metadata": {},
     "output_type": "execute_result"
    }
   ],
   "source": [
    "max_corr"
   ]
  },
  {
   "cell_type": "code",
   "execution_count": 23,
   "id": "8d0f36ec-852f-4696-b9e7-1a36efa2afe0",
   "metadata": {},
   "outputs": [],
   "source": [
    "tesla = Stock(symbol=\"TSLA\")\n",
    "thbru = Stock(symbol=\"THBRU\")\n",
    "tesla.load_data(directory)\n",
    "thbru_data = thbru.load_data(directory)"
   ]
  },
  {
   "cell_type": "code",
   "execution_count": 154,
   "id": "eb64645c-be72-41d1-ad92-005a35ade086",
   "metadata": {},
   "outputs": [],
   "source": [
    "def plot_graph():\n",
    "    tesla = Stock(symbol=\"TSLA\")\n",
    "    thbru = Stock(symbol=\"AER\")\n",
    "    tesla.load_data(directory)\n",
    "    thbru.load_data(directory)\n",
    "    plt.figure(figsize=(10,6))\n",
    "    plt.plot(tesla.data['Date'], tesla.data['Close'], label='tesla', color='red')\n",
    "    plt.plot(thbru.data['Date'], thbru.data['Close'], label='thbru', color='green')\n",
    "    plt.xlabel('Date')\n",
    "    plt.ylabel('Price')\n",
    "    plt.legend()\n",
    "    plt.grid(True)\n",
    "    plt.show()\n",
    "\n",
    "\n",
    "    \n",
    "\n",
    "    "
   ]
  },
  {
   "cell_type": "code",
   "execution_count": 155,
   "id": "7a041456-5003-4469-96a1-361ff844183e",
   "metadata": {},
   "outputs": [
    {
     "data": {
      "image/png": "[encoded data removed]",
      "text/plain": [
       "<Figure size 1000x600 with 1 Axes>"
      ]
     },
     "metadata": {},
     "output_type": "display_data"
    }
   ],
   "source": [
    "plot_graph()"
   ]
  },
  {
   "cell_type": "code",
   "execution_count": 62,
   "id": "1bfccc8a-f60d-4bb0-bae9-8a4d3907e870",
   "metadata": {},
   "outputs": [],
   "source": [
    "def get_stocks(directory):\n",
    "    stocks_before_2010 = []\n",
    "    for filename in tqdm(os.listdir(directory)):\n",
    "        file_path = os.path.join(directory,filename)\n",
    "        if not file_path.endswith(\".csv\"): continue\n",
    "        df = pd.read_csv(file_path)\n",
    "        df['Date'] = pd.to_datetime(df['Date'])\n",
    "        start_date = df['Date'].min()\n",
    "        if start_date.year < 2010:\n",
    "            stocks_before_2010.append(filename.split('.')[0])\n",
    "    return stocks_before_2010"
   ]
  },
  {
   "cell_type": "code",
   "execution_count": 63,
   "id": "245e077d-b964-4f9a-8842-2a56f03986ab",
   "metadata": {},
   "outputs": [
    {
     "name": "stderr",
     "output_type": "stream",
     "text": [
      "100%|██████████████████████████████████████████████████████████████████████████████████████████████████████████████████████████████████████████████| 5885/5885 [00:47<00:00, 123.94it/s]\n"
     ]
    }
   ],
   "source": [
    "stocks_before_2010 = get_stocks(directory)"
   ]
  },
  {
   "cell_type": "code",
   "execution_count": 85,
   "id": "c86fe49b-405e-4da6-8234-fd382f4eb80d",
   "metadata": {},
   "outputs": [],
   "source": [
    "stocks_before_2010 = random.sample(stocks_before_2010,30)"
   ]
  },
  {
   "cell_type": "code",
   "execution_count": 137,
   "id": "51c4c727-68e7-4edb-9ef3-b94bf77b753a",
   "metadata": {},
   "outputs": [],
   "source": []
  },
  {
   "cell_type": "code",
   "execution_count": 138,
   "id": "03341090-ec2e-4734-b832-b93030390062",
   "metadata": {},
   "outputs": [],
   "source": [
    "start,end = get_tsla_startdate(directory)"
   ]
  },
  {
   "cell_type": "code",
   "execution_count": 139,
   "id": "29eb95d9-43b5-41a3-a904-99fcb9ba2f42",
   "metadata": {},
   "outputs": [
    {
     "name": "stdout",
     "output_type": "stream",
     "text": [
      "2010-06-29 00:00:00 2020-04-01 00:00:00\n"
     ]
    }
   ],
   "source": [
    "print(start,end)"
   ]
  },
  {
   "cell_type": "code",
   "execution_count": 86,
   "id": "ab87b26d-569e-48a2-809d-b157dcbb34e6",
   "metadata": {},
   "outputs": [
    {
     "data": {
      "text/plain": [
       "30"
      ]
     },
     "execution_count": 86,
     "metadata": {},
     "output_type": "execute_result"
    }
   ],
   "source": [
    "len(stocks_before_2010)"
   ]
  },
  {
   "cell_type": "code",
   "execution_count": 141,
   "id": "345c4e95-052c-4b8d-bb5b-b75c6d9355d9",
   "metadata": {},
   "outputs": [],
   "source": [
    "def divide_data(directory):\n",
    "    stock_list = []\n",
    "    tsla_start_date,tsla_end_date = get_tsla_startdate(directory)\n",
    "    for stock_name in tqdm(stocks_before_2010):\n",
    "        stock_obj = Stock(stock_name)\n",
    "        stock_obj.load_data(directory)\n",
    "        stock_obj.trim_by_date(tsla_start_date,tsla_end_date)\n",
    "        stock_list.append(stock_obj)\n",
    "    return stock_list"
   ]
  },
  {
   "cell_type": "code",
   "execution_count": 142,
   "id": "1b652f5c-5d9c-4f40-9514-4a8d38590184",
   "metadata": {},
   "outputs": [
    {
     "name": "stderr",
     "output_type": "stream",
     "text": [
      "100%|███████████████████████████████████████████████████████████████████████████████████████████████████████████████████████████████████████████████████| 30/30 [00:00<00:00, 47.43it/s]\n"
     ]
    }
   ],
   "source": [
    "stock_list = divide_data(directory)"
   ]
  },
  {
   "cell_type": "code",
   "execution_count": 175,
   "id": "780fd955-cc95-4666-b8fc-edc3c540c4ab",
   "metadata": {},
   "outputs": [
    {
     "data": {
      "text/plain": [
       "(1725, 2457)"
      ]
     },
     "execution_count": 175,
     "metadata": {},
     "output_type": "execute_result"
    }
   ],
   "source": [
    "len(stock_list[28].data),len(tesla.data)"
   ]
  },
  {
   "cell_type": "code",
   "execution_count": 146,
   "id": "6a628029-4b1b-402a-8631-318259dc9498",
   "metadata": {},
   "outputs": [],
   "source": [
    "def find_corr(stock_a,stock_b):\n",
    "    return stock_a.data['Close'].corr(stock_b.data['Close'])"
   ]
  },
  {
   "cell_type": "code",
   "execution_count": 147,
   "id": "ec751071-2daf-4f80-9a15-5a80b80e16bf",
   "metadata": {},
   "outputs": [
    {
     "data": {
      "text/plain": [
       "nan"
      ]
     },
     "execution_count": 147,
     "metadata": {},
     "output_type": "execute_result"
    }
   ],
   "source": [
    "find_corr(stock_list[3],tesla)"
   ]
  },
  {
   "cell_type": "code",
   "execution_count": 148,
   "id": "06524999-40e5-4cfd-a9c4-544cd5412296",
   "metadata": {},
   "outputs": [
    {
     "name": "stdout",
     "output_type": "stream",
     "text": [
      "2266\n",
      "1744\n"
     ]
    }
   ],
   "source": [
    "print(tesla.data['Close'].nunique())\n",
    "print(stock_list[0].data['Close'].nunique())"
   ]
  },
  {
   "cell_type": "code",
   "execution_count": 149,
   "id": "3cc3631c-f441-4aae-83db-79398cccf787",
   "metadata": {},
   "outputs": [
    {
     "name": "stdout",
     "output_type": "stream",
     "text": [
      "Invalid lengths 2457 2378\n",
      "Invalid lengths 2457 1725\n",
      "Invalid lengths 2457 2458\n"
     ]
    }
   ],
   "source": [
    "stock_correlations = []\n",
    "for candidate_stock in stock_list:\n",
    "    arr1 = np.array(list(tesla.data[\"Close\"]))\n",
    "    arr2 = np.array(list(candidate_stock.data[\"Close\"]))\n",
    "    if len(arr1)!=len(arr2):\n",
    "        print(\"Invalid lengths\",len(arr1),len(arr2))\n",
    "        continue\n",
    "    corr_value = np.corrcoef(arr1,arr2)[0][1]\n",
    "    stock_correlations.append((candidate_stock,corr_value))"
   ]
  },
  {
   "cell_type": "code",
   "execution_count": 150,
   "id": "48f878e8-568e-4433-bedc-8d612d42c29a",
   "metadata": {},
   "outputs": [],
   "source": [
    "stock_correlations = sorted(stock_correlations, key=lambda x: -x[1])"
   ]
  },
  {
   "cell_type": "code",
   "execution_count": 152,
   "id": "86fa589e-ac05-4b7b-abe3-85adb9f4b116",
   "metadata": {},
   "outputs": [
    {
     "data": {
      "text/plain": [
       "'ECL'"
      ]
     },
     "execution_count": 152,
     "metadata": {},
     "output_type": "execute_result"
    }
   ],
   "source": [
    "stock_correlations[1][0].symbol"
   ]
  },
  {
   "cell_type": "code",
   "execution_count": 153,
   "id": "e9d3eff6-7a7b-41e8-a8c6-851e7d1f7062",
   "metadata": {},
   "outputs": [
    {
     "data": {
      "text/plain": [
       "nan"
      ]
     },
     "execution_count": 153,
     "metadata": {},
     "output_type": "execute_result"
    }
   ],
   "source": [
    "tesla.data['Close'].corr(stock_list[0].data['Open'])"
   ]
  },
  {
   "cell_type": "code",
   "execution_count": 131,
   "id": "069275d0-d69c-42c0-810c-50ad39072aeb",
   "metadata": {},
   "outputs": [
    {
     "data": {
      "text/plain": [
       "[('AER', np.float64(0.8602317657402482)),\n",
       " ('ECL', np.float64(0.8398009365296758)),\n",
       " ('DSGX', np.float64(0.8294571157992481)),\n",
       " ('KAI', np.float64(0.8195555400601534)),\n",
       " ('BXS', np.float64(0.8185747109909907)),\n",
       " ('BRO', np.float64(0.8049002846876478)),\n",
       " ('DGX', np.float64(0.7883540491733518)),\n",
       " ('EBTC', np.float64(0.7868488985059017)),\n",
       " ('TREX', np.float64(0.7868289995408201)),\n",
       " ('OVLY', np.float64(0.7734796272463507)),\n",
       " ('AIMC', np.float64(0.6999171765590372)),\n",
       " ('WLFC', np.float64(0.6786570419585178)),\n",
       " ('BBSI', np.float64(0.6580141787640622)),\n",
       " ('PLT', np.float64(0.2785930966830737)),\n",
       " ('GPX', np.float64(0.2495575374318846)),\n",
       " ('GJH', np.float64(0.21991819796714154)),\n",
       " ('RWT', np.float64(0.19165932879851144)),\n",
       " ('KTCC', np.float64(-0.07666436539393794)),\n",
       " ('DKS', np.float64(-0.11800362868284338)),\n",
       " ('HLIT', np.float64(-0.14293213853776437)),\n",
       " ('NUM', np.float64(-0.371537206136879)),\n",
       " ('JJC', np.float64(-0.42793729381061774)),\n",
       " ('BWEN', np.float64(-0.4716215525946348)),\n",
       " ('SEED', np.float64(-0.5413349453876831)),\n",
       " ('INOD', np.float64(-0.7043517923087591)),\n",
       " ('VEON', np.float64(-0.7907589973191476)),\n",
       " ('DO', np.float64(-0.8417379923421046))]"
      ]
     },
     "execution_count": 131,
     "metadata": {},
     "output_type": "execute_result"
    }
   ],
   "source": [
    "[(_a.symbol, _b) for _a, _b in stock_correlations]"
   ]
  },
  {
   "cell_type": "code",
   "execution_count": null,
   "id": "27745a55-14eb-4280-bf8d-53a15fda1d2f",
   "metadata": {},
   "outputs": [],
   "source": [
    "def max_min_correlation(directory,sym='TSLA'):\n",
    "    stock_data = devide_data(directory)\n",
    "    tesla = Stock(sym)\n",
    "    tesla.load_data(directory)\n",
    "    tesla.data['Date'] = pd.to_datetime(tesla.data['Date'])\n",
    "    tesla.data = tesla.data.sort_values('Date')\n",
    "    tesla_closing_price = tesla.data['Close']\n",
    "    max_corelation = -1\n",
    "    max_corelation_stock = None\n",
    "    min_corelation = 1\n",
    "    min_corelation_stock = None\n",
    "    for stock in stock_data:\n",
    "        \n",
    "        "
   ]
  }
 ],
 "metadata": {
  "kernelspec": {
   "display_name": "Python 3 (ipykernel)",
   "language": "python",
   "name": "python3"
  },
  "language_info": {
   "codemirror_mode": {
    "name": "ipython",
    "version": 3
   },
   "file_extension": ".py",
   "mimetype": "text/x-python",
   "name": "python",
   "nbconvert_exporter": "python",
   "pygments_lexer": "ipython3",
   "version": "3.12.3"
  }
 },
 "nbformat": 4,
 "nbformat_minor": 5
}
